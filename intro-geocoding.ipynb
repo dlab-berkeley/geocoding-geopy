{
 "cells": [
  {
   "cell_type": "markdown",
   "metadata": {},
   "source": [
    "# Introductory Geocoding and Mapping"
   ]
  },
  {
   "cell_type": "markdown",
   "metadata": {},
   "source": [
    "Juan Shishido, Andrew Chong, Patty Frontiera\n",
    "\n",
    "Adapted from Juan Shishido's tutorial at: http://people.ischool.berkeley.edu/~juanshishido/geocoding-workshop/intro-geocoding.html\n",
    "\n",
    "School of Information\n",
    "\n",
    "GSR, D-Lab"
   ]
  },
  {
   "cell_type": "markdown",
   "metadata": {},
   "source": [
    "## Imports"
   ]
  },
  {
   "cell_type": "code",
   "execution_count": null,
   "metadata": {
    "collapsed": false
   },
   "outputs": [],
   "source": [
    "import json\n",
    "import requests\n",
    "import pandas as pd\n",
    "import geopy\n",
    "from pprint import pprint"
   ]
  },
  {
   "cell_type": "markdown",
   "metadata": {},
   "source": [
    "## Using A Geocoding APIs\n",
    "There are a number of Geocoding APIs that you can use to geocode place names and addresses. To use one of these you create code like that shown below. Each geocoding service may have different inputs and outputs."
   ]
  },
  {
   "cell_type": "markdown",
   "metadata": {},
   "source": [
    "### Photon API\n",
    "Here is an example of geocoding with the Photon API."
   ]
  },
  {
   "cell_type": "code",
   "execution_count": null,
   "metadata": {
    "collapsed": false
   },
   "outputs": [],
   "source": [
    "def get_geocoded_object_photon(address):\n",
    "    # URL\n",
    "    url = 'http://photon.komoot.de/api/?q=' + address.replace(' ', '+')\n",
    "    \n",
    "    # Response\n",
    "    response = requests.get(url)\n",
    "    return json.loads(response.text)\n",
    "\n",
    "get_geocoded_object_photon(\"1600 Amphitheatre Pkwy, Mountain View, CA\")"
   ]
  },
  {
   "cell_type": "markdown",
   "metadata": {},
   "source": [
    "## Geopy Module\n",
    "\n",
    "The Geopy Module makes it easy to try a number of different geocoding APIs using the same syntax. It is updated frequently so it is also a good way to keep abreast of the popular geocoding services.\n",
    "\n",
    "You can read Geopy's Documentation here: https://geopy.readthedocs.org/en/1.10.0/#. \n",
    "\n",
    "We will use Geopy to geocode addresses with the Google Geocoding Service."
   ]
  },
  {
   "cell_type": "markdown",
   "metadata": {},
   "source": [
    "### Google Geocoding API\n",
    "\n",
    "The Google Geocoder and is extremely popular. It is very accurate for two reasons. It has a robust and sophisticated address parser **and** a great reference database of streets, parcels, and properties. However, it limits you to **2,500** free address geocodes per day. Moreover, you need to read the [Google Geocoder terms of use](https://developers.google.com/maps/documentation/geocoding/usage-limits) to make sure that you do not violate them.  "
   ]
  },
  {
   "cell_type": "markdown",
   "metadata": {
    "collapsed": true
   },
   "source": [
    "#### Test out response object"
   ]
  },
  {
   "cell_type": "code",
   "execution_count": null,
   "metadata": {
    "collapsed": false
   },
   "outputs": [],
   "source": [
    "# Create a geocoding object\n",
    "google_geocoder = geopy.geocoders.GoogleV3()\n",
    "\n",
    "# Geocode one address with this geocoder\n",
    "response = google_geocoder.geocode(\"1600 Amphitheatre Pkwy, Mountain View, CA\", google_geocoder) \n",
    "type(response)"
   ]
  },
  {
   "cell_type": "markdown",
   "metadata": {
    "collapsed": true
   },
   "source": [
    "#### Navigating the response object\n",
    "\n",
    "What is a Location type? \n",
    "\n",
    "Experiment to see if has .keys() method or can be navigated using an index, etc response[0]. "
   ]
  },
  {
   "cell_type": "code",
   "execution_count": null,
   "metadata": {
    "collapsed": false
   },
   "outputs": [],
   "source": [
    "# response.keys()\n",
    "\n",
    "response[0]\n",
    "response[1]\n",
    "response[1][0]\n",
    "response[1][1]"
   ]
  },
  {
   "cell_type": "markdown",
   "metadata": {
    "collapsed": true
   },
   "source": [
    "#### Write function that only returns latitude & longitude"
   ]
  },
  {
   "cell_type": "code",
   "execution_count": null,
   "metadata": {
    "collapsed": false
   },
   "outputs": [],
   "source": [
    "def get_coords_geopy(address, geocoder_instance):\n",
    "    response = geocoder_instance.geocode(address) \n",
    "    lat_lon = response[1][0], response[1][1]\n",
    "    return lat_lon\n",
    "\n",
    "# Now try it\n",
    "coords = get_coords_geopy(\"1600 Amphitheatre Pkwy, Mountain View, CA\", google_geocoder)\n",
    "coords"
   ]
  },
  {
   "cell_type": "markdown",
   "metadata": {},
   "source": [
    "## Looping through a list of addresses from a text file"
   ]
  },
  {
   "cell_type": "markdown",
   "metadata": {},
   "source": [
    "### Load csv data into pandas DataFrame. "
   ]
  },
  {
   "cell_type": "code",
   "execution_count": null,
   "metadata": {
    "collapsed": false
   },
   "outputs": [],
   "source": [
    "bart = pd.read_csv(\"data/bartstations.csv\")\n",
    "type(bart)\n",
    "bart.keys()\n",
    " "
   ]
  },
  {
   "cell_type": "markdown",
   "metadata": {},
   "source": [
    "### Quick Dip into Pandas\n",
    "\n",
    "Pandas in 10 minutes: http://pandas.pydata.org/pandas-docs/stable/10min.html"
   ]
  },
  {
   "cell_type": "code",
   "execution_count": null,
   "metadata": {
    "collapsed": false
   },
   "outputs": [],
   "source": [
    "bart['weekday_visitors'] = 1000*bart.index\n",
    "bart['weekend_visitors'] = 2000*bart.index\n",
    "bart['weekly_visitors'] = bart['weekday_visitors'] + bart['weekend_visitors']\n",
    "bart"
   ]
  },
  {
   "cell_type": "markdown",
   "metadata": {},
   "source": [
    "### Apply upper function to each address using .apply()"
   ]
  },
  {
   "cell_type": "code",
   "execution_count": null,
   "metadata": {
    "collapsed": false
   },
   "outputs": [],
   "source": [
    "one_address = \"1245 Broadway, Oakland, CA 94612\"\n",
    "one_address_caps = one_address.upper()\n",
    "\n",
    "bart['address_in_CAPS'] = bart['address'].apply(lambda x: x.upper())\n",
    "bart"
   ]
  },
  {
   "cell_type": "markdown",
   "metadata": {},
   "source": [
    "### Pass addresses through get_coords_geopy function"
   ]
  },
  {
   "cell_type": "code",
   "execution_count": null,
   "metadata": {
    "collapsed": false
   },
   "outputs": [],
   "source": [
    "google_geocoder = geopy.geocoders.GoogleV3()\n",
    "bart['latitude'], bart['longitude'] = zip(*bart['address'].apply(lambda x: get_coords_geopy(x, google_geocoder)))\n",
    "\n",
    "bart[['station_name', 'latitude', 'longitude']]"
   ]
  },
  {
   "cell_type": "markdown",
   "metadata": {},
   "source": [
    "## Working with GEOJSON/ Mapping your geocoded addresses\n",
    "The following code creates the bart_coords.geojson and bart_coords.js files in the map/geojson folder. bart_coords.js is used by map/bartmap.html for our mapping of BART stations. \n",
    "\n",
    "### First try opening map/bart_map.html, which will be blank. "
   ]
  },
  {
   "cell_type": "markdown",
   "metadata": {},
   "source": [
    "### Create a feature for each row of data and push into geo_data object. "
   ]
  },
  {
   "cell_type": "code",
   "execution_count": null,
   "metadata": {
    "collapsed": false
   },
   "outputs": [],
   "source": [
    "geo_data = {\n",
    "    'type': 'FeatureCollection', \n",
    "    'features': []\n",
    "}\n",
    "\n",
    "for i in bart.index:\n",
    "    feature = {\n",
    "        'type': 'Feature', \n",
    "        'geometry': {\n",
    "            \"type\": \"Point\", \n",
    "            \"coordinates\": [float(bart['longitude'][i]), float(bart['latitude'][i])]\n",
    "        },\n",
    "            'properties': {\n",
    "                'station_name': bart['station_name'][i]\n",
    "            }\n",
    "    }\n",
    "\n",
    "    # Add the feature into the GeoJSON wrapper\n",
    "    geo_data['features'].append(feature)\n",
    "\n",
    "with open('map/geojson/bart_coords.geojson', 'w') as f:\n",
    "    json.dump(geo_data, f, indent=2)"
   ]
  },
  {
   "cell_type": "markdown",
   "metadata": {},
   "source": [
    "### Create bart_coords.js file "
   ]
  },
  {
   "cell_type": "code",
   "execution_count": null,
   "metadata": {
    "collapsed": false
   },
   "outputs": [],
   "source": [
    "with open('map/geojson/bart_coords.geojson', 'r') as infile:\n",
    "    lines = infile.readlines()\n",
    "\n",
    "    with open('map/geojson/bart_coords.js', 'w') as outfile:\n",
    "        outfile.write('var bart = ')\n",
    "        outfile.writelines(lines)\n",
    "\n",
    "infile.close()\n",
    "outfile.close()"
   ]
  },
  {
   "cell_type": "markdown",
   "metadata": {
    "collapsed": true
   },
   "source": [
    "### Now open map/bart_map.html. Your spreadsheet of text addresses have now been geocoded and mapped!"
   ]
  },
  {
   "cell_type": "code",
   "execution_count": null,
   "metadata": {
    "collapsed": true
   },
   "outputs": [],
   "source": []
  },
  {
   "cell_type": "markdown",
   "metadata": {},
   "source": [
    "# Batch Geocoding with the Census Geocoder API\n",
    "\n",
    "The Census Geocoding API provides a great, free service for geocoding US street addresses. You can read about the Census Geocoder and test it using the online interface at http://geocoding.geo.census.gov/geocoder. Note, the online geocoding interface allows one to geocode up to 1000 addresses at a time without programming via a file upload utility.  Below we show you how to programmatically access the [Census Geocoding API](http://geocoding.geo.census.gov/geocoder/Geocoding_Services_API.html). \n",
    "\n",
    "### The good stuff:\n",
    "- There are no restrictions on the number of addresses you can geocode or what you can do with the results.\n",
    "- You can submit a file of up to 1000 addresses to geocode at a time. This is called **batch geocoding**.\n",
    "\n",
    "### The bad stuff:\n",
    "- The geocoding results will not be as good as what you get with the Google Geocoder. But for most applications it is good enough.\n",
    "- You are limited to US addresses.\n",
    "\n",
    "### Address format:\n",
    "The Census Geocding API requires addresses to be in a strict format:\n",
    "- no header row\n",
    "- the first column must contain a unique id\n",
    "- the id is followed by comma separated values for street address, city, state, and zip\n",
    "    - if any component is missing a comma must still be used to separate address components\n",
    "- example:\n",
    "<pre>\n",
    "1,409 Main St,Oakland,CA,94605\n",
    "2,310 Main St,,CA,94605\n",
    "</Pre>\n",
    "\n",
    "**Note:** The id column can contain any unique value, for example a place name rather than a numeric id.\n",
    "- example:\n",
    "<pre>\n",
    "house 1,409 Main St,Oakland,CA,94605\n",
    "house 2,310 Main St,,CA,94605\n",
    "</Pre>"
   ]
  },
  {
   "cell_type": "markdown",
   "metadata": {},
   "source": [
    "### Read in file of addresses to geocode with the Census Geocoder"
   ]
  },
  {
   "cell_type": "code",
   "execution_count": null,
   "metadata": {
    "collapsed": false
   },
   "outputs": [],
   "source": [
    "# Identify the file with the addresses in the format required by the geocoder.\n",
    "# Take a look at the contents of this file to see how these are structured.\n",
    "cgfile = 'data/bart_addresses_census_format.csv'\n",
    "\n",
    "# Configure API parameters\n",
    "# You can read about them here: http://geocoding.geo.census.gov/geocoder/Geocoding_Services_API.html\n",
    "url = 'http://geocoding.geo.census.gov/geocoder/geographies/addressbatch'\n",
    "payload = {'benchmark':'Public_AR_Current','vintage':'ACS2013_Current'}\n",
    "files = {'addressFile': (cgfile, open(cgfile, 'rb'), 'text/csv')}\n",
    "\n",
    "# Submit the file of addresses to geocode\n",
    "r = requests.post(url, files=files, data = payload)\n",
    "\n",
    "# Review the output\n",
    "print (r.text)"
   ]
  },
  {
   "cell_type": "markdown",
   "metadata": {},
   "source": [
    "### Save geocoded output to file\n"
   ]
  },
  {
   "cell_type": "code",
   "execution_count": null,
   "metadata": {
    "collapsed": false
   },
   "outputs": [],
   "source": [
    "# Save geocoded data to file\n",
    "with open('data/bart_geocoded_addresses_from_census.csv', 'w') as outfile:\n",
    "    outfile.writelines(r.text)\n",
    "outfile.close()"
   ]
  },
  {
   "cell_type": "markdown",
   "metadata": {},
   "source": [
    "### Read geocoded data back in to do any post processing\n",
    "When we do this we will add header rows as there were none in the Census Geocoder output."
   ]
  },
  {
   "cell_type": "code",
   "execution_count": null,
   "metadata": {
    "collapsed": false
   },
   "outputs": [],
   "source": [
    "# Read geocoded data into pandas data frame\n",
    "colnames = ['station_name','inaddr','ismatch','matchtype','maddr','lon_lat','tlid','sideofst','fipstate','fipcounty','fiptract','junk']\n",
    "bart_geocoded = pd.read_csv('data/bart_geocoded_addresses_from_census.csv',sep=\",\", header=None)\n",
    "bart_geocoded.columns = colnames\n",
    "bart_geocoded\n",
    "del bart_geocoded['junk'] #delete junk column at end of file\n",
    "bart_geocoded"
   ]
  },
  {
   "cell_type": "code",
   "execution_count": null,
   "metadata": {
    "collapsed": false
   },
   "outputs": [],
   "source": [
    "# Subset data frame to select only matched addresses\n",
    "bart_geocoded_match = bart_geocoded.loc[bart_geocoded['ismatch']== 'Match']\n"
   ]
  },
  {
   "cell_type": "code",
   "execution_count": null,
   "metadata": {
    "collapsed": false
   },
   "outputs": [],
   "source": [
    "# Reformat and create a new data frame that we can map\n",
    "data = {'station': bart_geocoded_match['station_name'], \n",
    "        'longitude': bart_geocoded_match['lon_lat'].str.split(',', expand=True)[0],\n",
    "        'latitude': bart_geocoded_match['lon_lat'].str.split(',', expand=True)[1],\n",
    "        'address': bart_geocoded_match['maddr']\n",
    "       }\n",
    "bart.df = pd.DataFrame(data, columns = ['station', 'longitude', 'latitude','address'])\n",
    "bart.df\n"
   ]
  },
  {
   "cell_type": "markdown",
   "metadata": {},
   "source": [
    "## Exercise: \n",
    "Use the mapping code from the Google Geocoder section above to create a map using the census geocoder results."
   ]
  },
  {
   "cell_type": "code",
   "execution_count": null,
   "metadata": {
    "collapsed": false
   },
   "outputs": [],
   "source": [
    "# Your code here to create the geojson data\n",
    "\n",
    "\n",
    "# Now save the geojson data to a file\n",
    "with open('map/geojson/bart_coords2.geojson', 'w') as f:\n",
    "    json.dump(geo_data, f, indent=2)"
   ]
  },
  {
   "cell_type": "code",
   "execution_count": null,
   "metadata": {
    "collapsed": true
   },
   "outputs": [],
   "source": [
    "# Read in the geojson data and write it out to a javascript file so we can map it\n",
    "with open('map/geojson/bart_coords2.geojson', 'r') as infile:\n",
    "    lines = infile.readlines()\n",
    "\n",
    "    with open('map/geojson/bart_coords2.js', 'w') as outfile:\n",
    "        outfile.write('var bart = ')\n",
    "        outfile.writelines(lines)\n",
    "\n",
    "infile.close()\n",
    "outfile.close()"
   ]
  },
  {
   "cell_type": "markdown",
   "metadata": {
    "collapsed": true
   },
   "source": [
    "### Now open the Census geocoded map/bart_map2.html. \n",
    "Your spreadsheet of text addresses have now been geocoded and mapped!"
   ]
  },
  {
   "cell_type": "code",
   "execution_count": null,
   "metadata": {
    "collapsed": true
   },
   "outputs": [],
   "source": []
  }
 ],
 "metadata": {
  "kernelspec": {
   "display_name": "Python 3",
   "language": "python",
   "name": "python3"
  },
  "language_info": {
   "codemirror_mode": {
    "name": "ipython",
    "version": 3
   },
   "file_extension": ".py",
   "mimetype": "text/x-python",
   "name": "python",
   "nbconvert_exporter": "python",
   "pygments_lexer": "ipython3",
   "version": "3.4.3"
  }
 },
 "nbformat": 4,
 "nbformat_minor": 0
}
